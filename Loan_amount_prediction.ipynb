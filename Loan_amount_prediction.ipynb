{
  "nbformat": 4,
  "nbformat_minor": 0,
  "metadata": {
    "colab": {
      "provenance": [],
      "authorship_tag": "ABX9TyMG4CHIf+lWrsPLmpAOjuWV",
      "include_colab_link": true
    },
    "kernelspec": {
      "name": "python3",
      "display_name": "Python 3"
    },
    "language_info": {
      "name": "python"
    }
  },
  "cells": [
    {
      "cell_type": "markdown",
      "metadata": {
        "id": "view-in-github",
        "colab_type": "text"
      },
      "source": [
        "<a href=\"https://colab.research.google.com/github/kartheek274/Python/blob/main/Loan_amount_prediction.ipynb\" target=\"_parent\"><img src=\"https://colab.research.google.com/assets/colab-badge.svg\" alt=\"Open In Colab\"/></a>"
      ]
    },
    {
      "cell_type": "code",
      "execution_count": null,
      "metadata": {
        "id": "QOiCFu6GBfLR"
      },
      "outputs": [],
      "source": []
    },
    {
      "cell_type": "code",
      "source": [
        "import pandas as pd\n",
        "import numpy as np\n",
        "\n",
        "# Simulated dataset\n",
        "data = {\n",
        "    'account_id': [101, 102, 103, 104, 105, 106, 107],\n",
        "    'age': [35, 42, 28, 50, 30, 45, 33],\n",
        "    'income': [50000, 62000, 45000, 80000, 47000, 70000, 52000],\n",
        "    'credit_score': [720, 680, 640, 700, 660, 710, 690],\n",
        "    'previous_loans': [2, 3, 1, 4, 1, 3, 2],\n",
        "    'loan_amount': [200000, 250000, np.nan, 320000, np.nan, 280000, 240000]\n",
        "}\n",
        "\n",
        "df = pd.DataFrame(data)"
      ],
      "metadata": {
        "id": "-6CGKrd6Bvt8"
      },
      "execution_count": 2,
      "outputs": []
    },
    {
      "cell_type": "code",
      "source": [
        "# Separate data with and without missing loan_amount\n",
        "train_df = df[df['loan_amount'].notnull()]\n",
        "predict_df = df[df['loan_amount'].isnull()]"
      ],
      "metadata": {
        "id": "js62i35aBzIH"
      },
      "execution_count": 3,
      "outputs": []
    },
    {
      "cell_type": "code",
      "source": [
        "from sklearn.ensemble import RandomForestRegressor\n",
        "\n",
        "# Features to use for prediction\n",
        "features = ['age', 'income', 'credit_score', 'previous_loans']\n",
        "\n",
        "X_train = train_df[features]\n",
        "y_train = train_df['loan_amount']\n",
        "\n",
        "# Train the model\n",
        "model = RandomForestRegressor(n_estimators=100, random_state=42)\n",
        "model.fit(X_train, y_train)\n",
        "\n",
        "# Predict missing values\n",
        "X_predict = predict_df[features]\n",
        "predicted_loans = model.predict(X_predict)\n",
        "\n",
        "# Fill the missing loan_amounts\n",
        "df.loc[df['loan_amount'].isnull(), 'loan_amount'] = predicted_loans\n",
        "\n",
        "print(df)"
      ],
      "metadata": {
        "colab": {
          "base_uri": "https://localhost:8080/"
        },
        "id": "IzAWVoy0B3Pd",
        "outputId": "14eda7a8-0dc2-422e-e7c5-4c996065f8c0"
      },
      "execution_count": 4,
      "outputs": [
        {
          "output_type": "stream",
          "name": "stdout",
          "text": [
            "   account_id  age  income  credit_score  previous_loans  loan_amount\n",
            "0         101   35   50000           720               2     200000.0\n",
            "1         102   42   62000           680               3     250000.0\n",
            "2         103   28   45000           640               1     227000.0\n",
            "3         104   50   80000           700               4     320000.0\n",
            "4         105   30   47000           660               1     227000.0\n",
            "5         106   45   70000           710               3     280000.0\n",
            "6         107   33   52000           690               2     240000.0\n"
          ]
        }
      ]
    }
  ]
}